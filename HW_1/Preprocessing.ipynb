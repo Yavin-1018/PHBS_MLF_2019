{
 "cells": [
  {
   "cell_type": "code",
   "execution_count": null,
   "metadata": {},
   "outputs": [],
   "source": [
    "from scipy.io import arff\n",
    "import pandas as pd\n",
    "import sklearn.impute as impute\n",
    "import numpy as np"
   ]
  },
  {
   "cell_type": "code",
   "execution_count": null,
   "metadata": {},
   "outputs": [],
   "source": [
    "data=arff.loadarff('4year.arff')\n",
    "df = pd.DataFrame(data[0])\n",
    "print(type(df))\n",
    "df['bankruptcy'] = (df['class']==b'1')\n",
    "df=df.rename(columns={'Attr1':'Profit_margin', 'Attr2': 'Debt ratio', 'Attr7':'EBIT ratio','Attr10':'Equity_ratio'})\n",
    "\"Properly rename the columns to X1, X2, X7, and X10\""
   ]
  },
  {
   "cell_type": "code",
   "execution_count": null,
   "metadata": {},
   "outputs": [],
   "source": [
    "imr = impute.SimpleImputer(missing_values=np.nan, strategy='mean')\n",
    "imputed_data = imr.fit_transform(df)\n",
    "imputed_data=pd.DataFrame(imputed_data)\n",
    "\"Fill-in the missing values na with the mean. \""
   ]
  },
  {
   "cell_type": "code",
   "execution_count": null,
   "metadata": {},
   "outputs": [],
   "source": [
    "std_1=[]\n",
    "std_2=[]\n",
    "std_3=[]\n",
    "for x in ['Profit_margin', 'Debt ratio', 'EBIT ratio','Equity_ratio']:\n",
    "    matrix=df[x].describe().values\n",
    "    std_1.append([matrix[1],matrix[2]])\n",
    "print(std_1)\n",
    "\n",
    "for x in [0, 1, 6,9]:\n",
    "    ongo=imputed_data[imputed_data[65].isin([0])]\n",
    "    matrix=ongo[x].describe().values\n",
    "    std_2.append([matrix[1],matrix[2]])\n",
    "print(std_2)\n",
    "\n",
    "for x in [0, 1, 6,9]:\n",
    "    bankrupt=imputed_data[imputed_data[65].isin([1])]\n",
    "    matrix=bankrupt[x].describe().values\n",
    "    std_3.append([matrix[1],matrix[2]])\n",
    "print(std_3)\n",
    "\"Find the mean and std of the 4 features among all, bankrupt and still-operating companies (3 groups)\""
   ]
  },
  {
   "cell_type": "code",
   "execution_count": null,
   "metadata": {},
   "outputs": [],
   "source": [
    "compute_1=df['Profit_margin'].describe()\n",
    "x1_value=compute_1.loc['mean']-compute_1.loc['std']\n",
    "\n",
    "compute_2=df['Equity_ratio'].describe()\n",
    "x2_value=compute_2.loc['mean']-compute_2.loc['std']\n",
    "\n",
    "final_data=imputed_data[(imputed_data[0] <= x1_value) & (imputed_data[10] <= x2_value)]\n",
    "np_final_data=final_data.values\n",
    "print(np.shape(final_data)[0])\n",
    "\"compute how many companies satisfy the condition\""
   ]
  },
  {
   "cell_type": "code",
   "execution_count": null,
   "metadata": {},
   "outputs": [],
   "source": [
    "bankrupt_1=final_data[imputed_data[65].isin([1])]\n",
    "ratio=len(bankrupt_1)/len(np_final_data)\n",
    "print(ratio)\n",
    "\"ratio of the bankrupted companies among the sub-groups above\""
   ]
  }
 ],
 "metadata": {
  "kernelspec": {
   "display_name": "Python 3",
   "language": "python",
   "name": "python3"
  },
  "language_info": {
   "codemirror_mode": {
    "name": "ipython",
    "version": 3
   },
   "file_extension": ".py",
   "mimetype": "text/x-python",
   "name": "python",
   "nbconvert_exporter": "python",
   "pygments_lexer": "ipython3",
   "version": "3.7.4"
  }
 },
 "nbformat": 4,
 "nbformat_minor": 2
}
